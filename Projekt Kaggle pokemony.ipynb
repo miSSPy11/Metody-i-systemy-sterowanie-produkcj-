{
 "cells": [
  {
   "cell_type": "code",
   "execution_count": 1,
   "metadata": {},
   "outputs": [],
   "source": [
    "import numpy as np # algebra liniowa\n",
    "import pandas as pd # czytanie plików csv\n",
    "import matplotlib.pyplot as plt\n",
    "import random as rnd\n",
    "\n",
    "# Biblioteki do wizualizacji danych\n",
    "import seaborn as sns\n",
    "import matplotlib.pyplot as plt\n",
    "%matplotlib inline\n",
    "\n",
    "# Importowanie bilbiotek do uczenia maszynowego\n",
    "from sklearn import metrics, svm\n",
    "from sklearn import preprocessing\n",
    "from sklearn import utils\n",
    "from sklearn.linear_model import LogisticRegression\n",
    "from sklearn.svm import SVC, LinearSVC\n",
    "from sklearn.ensemble import RandomForestClassifier\n",
    "from sklearn.neighbors import KNeighborsClassifier\n",
    "from sklearn.naive_bayes import GaussianNB\n",
    "from sklearn.linear_model import Perceptron\n",
    "from sklearn.linear_model import SGDClassifier\n",
    "from sklearn.tree import DecisionTreeClassifier\n"
   ]
  },
  {
   "cell_type": "code",
   "execution_count": 2,
   "metadata": {},
   "outputs": [],
   "source": [
    "# wczytywanie plików csv\n",
    "pokemon_df = pd.read_csv('pokemon.csv')\n",
    "combats_df = pd.read_csv('combats.csv')\n",
    "test_df = pd.read_csv('tests.csv')\n",
    "prediction_df = test_df.copy()"
   ]
  },
  {
   "cell_type": "code",
   "execution_count": 3,
   "metadata": {},
   "outputs": [
    {
     "data": {
      "text/html": [
       "<div>\n",
       "<style scoped>\n",
       "    .dataframe tbody tr th:only-of-type {\n",
       "        vertical-align: middle;\n",
       "    }\n",
       "\n",
       "    .dataframe tbody tr th {\n",
       "        vertical-align: top;\n",
       "    }\n",
       "\n",
       "    .dataframe thead th {\n",
       "        text-align: right;\n",
       "    }\n",
       "</style>\n",
       "<table border=\"1\" class=\"dataframe\">\n",
       "  <thead>\n",
       "    <tr style=\"text-align: right;\">\n",
       "      <th></th>\n",
       "      <th>#</th>\n",
       "      <th>Name</th>\n",
       "      <th>Type 1</th>\n",
       "      <th>Type 2</th>\n",
       "      <th>HP</th>\n",
       "      <th>Attack</th>\n",
       "      <th>Defense</th>\n",
       "      <th>Sp. Atk</th>\n",
       "      <th>Sp. Def</th>\n",
       "      <th>Speed</th>\n",
       "      <th>Generation</th>\n",
       "      <th>Legendary</th>\n",
       "    </tr>\n",
       "  </thead>\n",
       "  <tbody>\n",
       "    <tr>\n",
       "      <td>0</td>\n",
       "      <td>1</td>\n",
       "      <td>Bulbasaur</td>\n",
       "      <td>Grass</td>\n",
       "      <td>Poison</td>\n",
       "      <td>45</td>\n",
       "      <td>49</td>\n",
       "      <td>49</td>\n",
       "      <td>65</td>\n",
       "      <td>65</td>\n",
       "      <td>45</td>\n",
       "      <td>1</td>\n",
       "      <td>False</td>\n",
       "    </tr>\n",
       "    <tr>\n",
       "      <td>1</td>\n",
       "      <td>2</td>\n",
       "      <td>Ivysaur</td>\n",
       "      <td>Grass</td>\n",
       "      <td>Poison</td>\n",
       "      <td>60</td>\n",
       "      <td>62</td>\n",
       "      <td>63</td>\n",
       "      <td>80</td>\n",
       "      <td>80</td>\n",
       "      <td>60</td>\n",
       "      <td>1</td>\n",
       "      <td>False</td>\n",
       "    </tr>\n",
       "    <tr>\n",
       "      <td>2</td>\n",
       "      <td>3</td>\n",
       "      <td>Venusaur</td>\n",
       "      <td>Grass</td>\n",
       "      <td>Poison</td>\n",
       "      <td>80</td>\n",
       "      <td>82</td>\n",
       "      <td>83</td>\n",
       "      <td>100</td>\n",
       "      <td>100</td>\n",
       "      <td>80</td>\n",
       "      <td>1</td>\n",
       "      <td>False</td>\n",
       "    </tr>\n",
       "    <tr>\n",
       "      <td>3</td>\n",
       "      <td>4</td>\n",
       "      <td>Mega Venusaur</td>\n",
       "      <td>Grass</td>\n",
       "      <td>Poison</td>\n",
       "      <td>80</td>\n",
       "      <td>100</td>\n",
       "      <td>123</td>\n",
       "      <td>122</td>\n",
       "      <td>120</td>\n",
       "      <td>80</td>\n",
       "      <td>1</td>\n",
       "      <td>False</td>\n",
       "    </tr>\n",
       "    <tr>\n",
       "      <td>4</td>\n",
       "      <td>5</td>\n",
       "      <td>Charmander</td>\n",
       "      <td>Fire</td>\n",
       "      <td>NaN</td>\n",
       "      <td>39</td>\n",
       "      <td>52</td>\n",
       "      <td>43</td>\n",
       "      <td>60</td>\n",
       "      <td>50</td>\n",
       "      <td>65</td>\n",
       "      <td>1</td>\n",
       "      <td>False</td>\n",
       "    </tr>\n",
       "    <tr>\n",
       "      <td>5</td>\n",
       "      <td>6</td>\n",
       "      <td>Charmeleon</td>\n",
       "      <td>Fire</td>\n",
       "      <td>NaN</td>\n",
       "      <td>58</td>\n",
       "      <td>64</td>\n",
       "      <td>58</td>\n",
       "      <td>80</td>\n",
       "      <td>65</td>\n",
       "      <td>80</td>\n",
       "      <td>1</td>\n",
       "      <td>False</td>\n",
       "    </tr>\n",
       "    <tr>\n",
       "      <td>6</td>\n",
       "      <td>7</td>\n",
       "      <td>Charizard</td>\n",
       "      <td>Fire</td>\n",
       "      <td>Flying</td>\n",
       "      <td>78</td>\n",
       "      <td>84</td>\n",
       "      <td>78</td>\n",
       "      <td>109</td>\n",
       "      <td>85</td>\n",
       "      <td>100</td>\n",
       "      <td>1</td>\n",
       "      <td>False</td>\n",
       "    </tr>\n",
       "    <tr>\n",
       "      <td>7</td>\n",
       "      <td>8</td>\n",
       "      <td>Mega Charizard X</td>\n",
       "      <td>Fire</td>\n",
       "      <td>Dragon</td>\n",
       "      <td>78</td>\n",
       "      <td>130</td>\n",
       "      <td>111</td>\n",
       "      <td>130</td>\n",
       "      <td>85</td>\n",
       "      <td>100</td>\n",
       "      <td>1</td>\n",
       "      <td>False</td>\n",
       "    </tr>\n",
       "    <tr>\n",
       "      <td>8</td>\n",
       "      <td>9</td>\n",
       "      <td>Mega Charizard Y</td>\n",
       "      <td>Fire</td>\n",
       "      <td>Flying</td>\n",
       "      <td>78</td>\n",
       "      <td>104</td>\n",
       "      <td>78</td>\n",
       "      <td>159</td>\n",
       "      <td>115</td>\n",
       "      <td>100</td>\n",
       "      <td>1</td>\n",
       "      <td>False</td>\n",
       "    </tr>\n",
       "    <tr>\n",
       "      <td>9</td>\n",
       "      <td>10</td>\n",
       "      <td>Squirtle</td>\n",
       "      <td>Water</td>\n",
       "      <td>NaN</td>\n",
       "      <td>44</td>\n",
       "      <td>48</td>\n",
       "      <td>65</td>\n",
       "      <td>50</td>\n",
       "      <td>64</td>\n",
       "      <td>43</td>\n",
       "      <td>1</td>\n",
       "      <td>False</td>\n",
       "    </tr>\n",
       "  </tbody>\n",
       "</table>\n",
       "</div>"
      ],
      "text/plain": [
       "    #              Name Type 1  Type 2  HP  Attack  Defense  Sp. Atk  Sp. Def  \\\n",
       "0   1         Bulbasaur  Grass  Poison  45      49       49       65       65   \n",
       "1   2           Ivysaur  Grass  Poison  60      62       63       80       80   \n",
       "2   3          Venusaur  Grass  Poison  80      82       83      100      100   \n",
       "3   4     Mega Venusaur  Grass  Poison  80     100      123      122      120   \n",
       "4   5        Charmander   Fire     NaN  39      52       43       60       50   \n",
       "5   6        Charmeleon   Fire     NaN  58      64       58       80       65   \n",
       "6   7         Charizard   Fire  Flying  78      84       78      109       85   \n",
       "7   8  Mega Charizard X   Fire  Dragon  78     130      111      130       85   \n",
       "8   9  Mega Charizard Y   Fire  Flying  78     104       78      159      115   \n",
       "9  10          Squirtle  Water     NaN  44      48       65       50       64   \n",
       "\n",
       "   Speed  Generation  Legendary  \n",
       "0     45           1      False  \n",
       "1     60           1      False  \n",
       "2     80           1      False  \n",
       "3     80           1      False  \n",
       "4     65           1      False  \n",
       "5     80           1      False  \n",
       "6    100           1      False  \n",
       "7    100           1      False  \n",
       "8    100           1      False  \n",
       "9     43           1      False  "
      ]
     },
     "execution_count": 3,
     "metadata": {},
     "output_type": "execute_result"
    }
   ],
   "source": [
    "pokemon_df.head(10)   # wyświelenie pierwszych 10 elemtów tabeli"
   ]
  },
  {
   "cell_type": "code",
   "execution_count": 4,
   "metadata": {},
   "outputs": [
    {
     "data": {
      "image/png": "[encoded data removed]",
      "text/plain": [
       "<Figure size 432x288 with 1 Axes>"
      ]
     },
     "metadata": {
      "needs_background": "light"
     },
     "output_type": "display_data"
    }
   ],
   "source": [
    "# zliczanie i obrazowanie typów pokemonów\n",
    "sns.countplot(x='Type 1', data=pokemon_df, order=pokemon_df['Type 1'].value_counts().index)\n",
    "plt.xticks(rotation=90)\n",
    "plt.show()"
   ]
  },
  {
   "cell_type": "code",
   "execution_count": 5,
   "metadata": {},
   "outputs": [
    {
     "data": {
      "image/png": "[encoded data removed]",
      "text/plain": [
       "<Figure size 432x288 with 1 Axes>"
      ]
     },
     "metadata": {
      "needs_background": "light"
     },
     "output_type": "display_data"
    }
   ],
   "source": [
    "# zlicznie i obrazowanie rodzajów pokemonów\n",
    "sns.countplot(x='Type 2', data=pokemon_df, order=pokemon_df['Type 2'].value_counts().index)\n",
    "plt.xticks(rotation=90)\n",
    "plt.show()"
   ]
  },
  {
   "cell_type": "code",
   "execution_count": 6,
   "metadata": {},
   "outputs": [
    {
     "name": "stdout",
     "output_type": "stream",
     "text": [
      "               Name  Total_stats\n",
      "0         Bulbasaur          318\n",
      "1           Ivysaur          405\n",
      "2          Venusaur          525\n",
      "3     Mega Venusaur          625\n",
      "4        Charmander          309\n",
      "5        Charmeleon          405\n",
      "6         Charizard          534\n",
      "7  Mega Charizard X          634\n",
      "8  Mega Charizard Y          634\n",
      "9          Squirtle          314\n"
     ]
    }
   ],
   "source": [
    "# obliczanie statystyk pokemonów\n",
    "pokemon_df['Total_stats'] = pokemon_df['HP'] + pokemon_df['Attack'] + pokemon_df['Defense'] + pokemon_df['Sp. Atk'] + pokemon_df['Sp. Def'] + pokemon_df['Speed']\n",
    "print(pokemon_df.iloc[:, [1, -1]].head(10))"
   ]
  },
  {
   "cell_type": "code",
   "execution_count": 7,
   "metadata": {},
   "outputs": [
    {
     "name": "stdout",
     "output_type": "stream",
     "text": [
      "435.1025\n"
     ]
    }
   ],
   "source": [
    "# obliczanie średnich statystyk pokemonów\n",
    "mean_stats = pokemon_df['Total_stats'].mean()\n",
    "print(mean_stats)"
   ]
  },
  {
   "cell_type": "code",
   "execution_count": 8,
   "metadata": {},
   "outputs": [
    {
     "name": "stdout",
     "output_type": "stream",
     "text": [
      "           Name  Total_stats\n",
      "27       Fearow          442\n",
      "29        Arbok          438\n",
      "45   Wigglytuff          435\n",
      "58      Persian          440\n",
      "113     Marowak          425\n",
      "122     Tangela          435\n",
      "126      Seadra          440\n",
      "178     Noctowl          442\n",
      "207    Sunflora          425\n",
      "210    Quagsire          430\n",
      "215  Misdreavus          435\n",
      "222      Gligar          430\n",
      "227    Qwilfish          430\n",
      "233     Sneasel          430\n",
      "300     Swellow          430\n",
      "302    Pelipper          430\n",
      "312    Vigoroth          440\n",
      "331      Lairon          430\n",
      "369    Lunatone          440\n",
      "370     Solrock          440\n",
      "384     Kecleon          440\n",
      "391    Chimecho          425\n",
      "531       Rotom          440\n",
      "587     Swoobat          425\n",
      "590      Audino          445\n",
      "648      Emolga          428\n",
      "661       Klang          440\n",
      "772     Dedenne          431\n"
     ]
    }
   ],
   "source": [
    "# wyświetlenie pokemonów o statystykach zbliżonych do średnich\n",
    "average_pokemon = min(pokemon_df['Total_stats'], key=lambda x: abs(x-mean_stats))\n",
    "print(pokemon_df.loc[((pokemon_df['Total_stats'] >= average_pokemon-10) & (pokemon_df['Total_stats'] <= average_pokemon+10)), ['Name', 'Total_stats']])"
   ]
  },
  {
   "cell_type": "code",
   "execution_count": 9,
   "metadata": {},
   "outputs": [
    {
     "name": "stdout",
     "output_type": "stream",
     "text": [
      "  First_pokemon          Second_pokemon                  Winner\n",
      "0      Larvitar                 Nuzleaf                 Nuzleaf\n",
      "1      Virizion               Terrakion               Terrakion\n",
      "2       Togetic                Beheeyem                Beheeyem\n",
      "3        Slugma               Druddigon               Druddigon\n",
      "4       Omastar                 Shuckle                 Omastar\n",
      "5        Joltik  Aegislash Shield Forme                  Joltik\n",
      "6          Natu                    Jynx                    Jynx\n",
      "7        Machop  Giratina Altered Forme  Giratina Altered Forme\n",
      "8        Pineco               Clauncher               Clauncher\n",
      "9       Wingull                 Pikachu                 Pikachu\n"
     ]
    }
   ],
   "source": [
    "# złączenie 2 tabel pokemonów oraz bitew\n",
    "name_dict = dict(zip(pokemon_df['#'], pokemon_df['Name']))\n",
    "combats_name_df = combats_df[['First_pokemon', 'Second_pokemon', 'Winner']].replace(name_dict)\n",
    "print(combats_name_df.head(10))"
   ]
  },
  {
   "cell_type": "code",
   "execution_count": 10,
   "metadata": {},
   "outputs": [
    {
     "name": "stdout",
     "output_type": "stream",
     "text": [
      "Mega Mewtwo Y               95.200000\n",
      "Meloetta Pirouette Forme    95.934959\n",
      "Greninja                    96.062992\n",
      "Mega Lopunny                96.124031\n",
      "Aerodactyl                  96.453901\n",
      "Mega Beedrill               96.638655\n",
      "Tornadus Therian Forme      96.800000\n",
      "Weavile                     97.478992\n",
      "Mega Aerodactyl             98.449612\n",
      "Shuckle                           NaN\n",
      "dtype: float64\n"
     ]
    }
   ],
   "source": [
    "# procentowy wynik wygranych pokemona\n",
    "first_battle = combats_name_df['First_pokemon'].value_counts()\n",
    "second_battle = combats_name_df['Second_pokemon'].value_counts()\n",
    "win_counts = combats_name_df['Winner'].value_counts()\n",
    "total_battle = first_battle + second_battle\n",
    "win_percentage = win_counts / total_battle * 100\n",
    "win_percentage = win_percentage.sort_values()\n",
    "print(win_percentage.tail(10))"
   ]
  },
  {
   "cell_type": "code",
   "execution_count": 11,
   "metadata": {},
   "outputs": [
    {
     "name": "stdout",
     "output_type": "stream",
     "text": [
      "Mega Sharpedo               95.000000\n",
      "Mega Mewtwo Y               95.200000\n",
      "Meloetta Pirouette Forme    95.934959\n",
      "Greninja                    96.062992\n",
      "Mega Lopunny                96.124031\n",
      "Aerodactyl                  96.453901\n",
      "Mega Beedrill               96.638655\n",
      "Tornadus Therian Forme      96.800000\n",
      "Weavile                     97.478992\n",
      "Mega Aerodactyl             98.449612\n",
      "dtype: float64\n"
     ]
    }
   ],
   "source": [
    "# usunięcie pokemonów które wcale przegrały wszystkie bitwy\n",
    "win_percentage.dropna(inplace=True)\n",
    "print(win_percentage.tail(10))"
   ]
  },
  {
   "cell_type": "code",
   "execution_count": 12,
   "metadata": {},
   "outputs": [],
   "source": [
    "pokemon_df['Type 2'] = pokemon_df['Type 2'].fillna('None')\n",
    "pokemon_df['Name'] = pokemon_df['Name'].fillna('Primeape')\n",
    "\n",
    "\n",
    "pokemon_df['Type 1'] = pokemon_df['Type 1'].replace('Fighting', 'Fight')\n",
    "pokemon_df['Type 2'] = pokemon_df['Type 2'].replace('Fighting', 'Fight')\n",
    "\n",
    "# zamiana true/false na wartości 1/0 w kolumnie Legendary\n",
    "pokemon_df['Legendary'] = pokemon_df['Legendary'].map({False: 0, True:1})"
   ]
  },
  {
   "cell_type": "code",
   "execution_count": 13,
   "metadata": {},
   "outputs": [],
   "source": [
    "type_df = pokemon_df.iloc[:, 0:4]\n",
    "type_df = type_df.drop('Name', axis=1)\n",
    "stats_df = pokemon_df.drop(['Type 1', 'Type 2', 'Name', 'Generation', 'Total_stats'], axis=1)\n",
    "\n",
    "type_dict = type_df.set_index('#').T.to_dict('list')\n",
    "stats_dict = stats_df.set_index('#').T.to_dict('list')"
   ]
  },
  {
   "cell_type": "code",
   "execution_count": 14,
   "metadata": {},
   "outputs": [
    {
     "name": "stdout",
     "output_type": "stream",
     "text": [
      "   First_pokemon  Second_pokemon  Winner\n",
      "0            266             298       1\n",
      "1            702             701       1\n",
      "2            191             668       1\n",
      "3            237             683       1\n",
      "4            151             231       0\n",
      "5            657             752       0\n",
      "6            192             134       1\n",
      "7             73             545       1\n",
      "8            220             763       1\n",
      "9            302              31       1\n"
     ]
    }
   ],
   "source": [
    "combats_df.Winner[combats_df.Winner == combats_df.First_pokemon] = 0\n",
    "combats_df.Winner[combats_df.Winner == combats_df.Second_pokemon] = 1\n",
    "\n",
    "print(combats_df.head(10))"
   ]
  },
  {
   "cell_type": "code",
   "execution_count": 15,
   "metadata": {},
   "outputs": [],
   "source": [
    "def replace_things(data):\n",
    "  \n",
    "    \n",
    "    data['First_pokemon_stats'] = data.First_pokemon.map(stats_dict)\n",
    "    data['Second_pokemon_stats'] = data.Second_pokemon.map(stats_dict)\n",
    "\n",
    "    data['First_pokemon'] = data.First_pokemon.map(type_dict)\n",
    "    data['Second_pokemon'] = data.Second_pokemon.map(type_dict)\n",
    "\n",
    "    return data"
   ]
  },
  {
   "cell_type": "code",
   "execution_count": null,
   "metadata": {},
   "outputs": [],
   "source": []
  },
  {
   "cell_type": "code",
   "execution_count": null,
   "metadata": {},
   "outputs": [],
   "source": []
  }
 ],
 "metadata": {
  "kernelspec": {
   "display_name": "Python 3",
   "language": "python",
   "name": "python3"
  },
  "language_info": {
   "codemirror_mode": {
    "name": "ipython",
    "version": 3
   },
   "file_extension": ".py",
   "mimetype": "text/x-python",
   "name": "python",
   "nbconvert_exporter": "python",
   "pygments_lexer": "ipython3",
   "version": "3.7.4"
  }
 },
 "nbformat": 4,
 "nbformat_minor": 2
}
