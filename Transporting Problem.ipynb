{
 "cells": [
  {
   "cell_type": "code",
   "execution_count": 3,
   "metadata": {},
   "outputs": [
    {
     "ename": "ModuleNotFoundError",
     "evalue": "No module named 'pulp'",
     "output_type": "error",
     "traceback": [
      "\u001b[1;31m---------------------------------------------------------------------------\u001b[0m",
      "\u001b[1;31mModuleNotFoundError\u001b[0m                       Traceback (most recent call last)",
      "\u001b[1;32m<ipython-input-3-a346a9e886f0>\u001b[0m in \u001b[0;36m<module>\u001b[1;34m\u001b[0m\n\u001b[1;32m----> 1\u001b[1;33m \u001b[1;32mfrom\u001b[0m \u001b[0mpulp\u001b[0m \u001b[1;32mimport\u001b[0m \u001b[1;33m*\u001b[0m\u001b[1;33m\u001b[0m\u001b[1;33m\u001b[0m\u001b[0m\n\u001b[0m\u001b[0;32m      2\u001b[0m \u001b[1;32mimport\u001b[0m \u001b[0mpandas\u001b[0m \u001b[1;32mas\u001b[0m \u001b[0mpd\u001b[0m\u001b[1;33m\u001b[0m\u001b[1;33m\u001b[0m\u001b[0m\n\u001b[0;32m      3\u001b[0m \u001b[1;33m\u001b[0m\u001b[0m\n\u001b[0;32m      4\u001b[0m \u001b[0mprob\u001b[0m \u001b[1;33m=\u001b[0m \u001b[0mLpProblem\u001b[0m\u001b[1;33m(\u001b[0m\u001b[1;34m\"Najmniejsze koszty\"\u001b[0m\u001b[1;33m,\u001b[0m\u001b[0mLpMinimize\u001b[0m\u001b[1;33m)\u001b[0m\u001b[1;33m\u001b[0m\u001b[1;33m\u001b[0m\u001b[0m\n\u001b[0;32m      5\u001b[0m \u001b[1;33m\u001b[0m\u001b[0m\n",
      "\u001b[1;31mModuleNotFoundError\u001b[0m: No module named 'pulp'"
     ]
    }
   ],
   "source": [
    "from pulp import *\n",
    "\n",
    "browary = [\"X\", \"Y\"]\n",
    "bary = [\"bulka\", \"pelex\", \"kebab\"]\n",
    "\n",
    "iloscTowaru = {\"X\" : 10, \"Y\" : 20}\n",
    "zamowienia = {\"bulka\" : 19, \"pelex\" : 5, \"kebab\" : 10}\n",
    "\n",
    "kosztXBarBulka = 15\n",
    "kosztXBarPelex = 10\n",
    "kosztXBarKebab = 5\n",
    "\n",
    "kosztYBarBulka = 2\n",
    "kosztYBarPelex = 15\n",
    "kosztYBarKebab = 20\n",
    "\n",
    "# Sprawdzam cene za dojazd w przypadku niepełnego busa\n",
    "\n",
    "if(kosztXBarBulka%5==0):\n",
    "\n",
    "    kosztXBarBulka=kosztXBarBulka/5\n",
    "\n",
    "else:\n",
    "\n",
    "    kosztXBarBulka=(kosztXBarBulka//5)+1\n",
    "    \n",
    "if(kosztXBarPelex%5==0):\n",
    "\n",
    "    kosztXBarPelex=kosztXBarPelex/5\n",
    "\n",
    "else:\n",
    "\n",
    "    kosztXBarPelex=(kosztXBarPelex//5)+1\n",
    "    \n",
    "if(kosztXBarKebab%5==0):\n",
    "\n",
    "    kosztXBarKebab=kosztXBarKebab/5\n",
    "\n",
    "else:\n",
    "\n",
    "    kosztXBarKebab=(kosztXBarKebab//5)+1\n",
    "    \n",
    "if(kosztYBarBulka%5==0):\n",
    "\n",
    "    kosztYBarBulka=kosztYBarBulka/5\n",
    "\n",
    "else:\n",
    "\n",
    "    kosztYBarBulka=(kosztYBarBulka//5)+1\n",
    "if(kosztYBarPelex%5==0):\n",
    "\n",
    "    kosztYBarPelex=kosztYBarPelex/5\n",
    "\n",
    "else:\n",
    "\n",
    "    kosztYBarPelex=(kosztYBarPelex//5)+1\n",
    "if(kosztYBarKebab%5==0):\n",
    "\n",
    "    kosztYBarKebab=kosztYBarKebab/5\n",
    "\n",
    "else:\n",
    "\n",
    "    kosztYBarKebab=(kosztYBarKebab//5)+1\n",
    "\n",
    "prob = LpProblem(\"Transportation problem\", LpMinimize)\n",
    "\n",
    "XdoBulki = LpVariable(\"XdoBulki\", 0)\n",
    "XdoPelexa = LpVariable(\"XdoPelexa\", 0)\n",
    "XdoKebaba = LpVariable(\"XdoKebaba\", 0)\n",
    "YdoBulki = LpVariable(\"YdoBulki\", 0)\n",
    "YdoPelexa = LpVariable(\"YdoPelexa\", 0)\n",
    "YdoKebaba = LpVariable(\"YdoKebaba\", 0)\n",
    "\n",
    "#wirtualne źrodlo, które jest potrzebne, by zoptymalizować wynik mimo za małej ilości piwa w browarze\n",
    "kosztDzbanPOL_BULKA = LpVariable(\"kosztDzbanPOL_BULKA\", 0) kosztDzbanPOL_PELEX = LpVariable(\"kosztDzbanPOL_PELEX\", 0)\n",
    "kosztDzbanPOL_KEBAB = LpVariable(\"kosztDzbanPOL_KEBAB\", 0)\n",
    "\n",
    "\n",
    "\n",
    "prob += kosztXBarBulka * XdoBulki + kosztXBarPelex * XdoPelexa + kosztXBarKebab * XdoKebaba + kosztYBarBulka * YdoBulki + kosztYBarPelex * YdoPelexa + kosztYBarKebab * YdoKebaba + 100 * kosztDzbanPOL_BULKA + 100 * kosztDzbanPOL_PELEX + 100 * kosztDzbanPOL_KEBAB\n",
    "prob += XdoBulki + XdoPelexa + XdoKebaba <= iloscTowaru[\"X\"],0\n",
    "prob += YdoBulki + YdoPelexa + YdoKebaba  <= iloscTowaru[\"Y\"],0\n",
    "prob += XdoBulki + YdoBulki + kosztDzbanPOL_BULKA == zamowienia[\"bulka\"],0\n",
    "prob += XdoPelexa + YdoPelexa + kosztDzbanPOL_PELEX == zamowienia[\"pelex\"],0\n",
    "prob += XdoKebaba + YdoKebaba + + kosztDzbanPOL_KEBAB == zamowienia[\"kebab\"],0\n",
    "prob += kosztDzbanPOL_BULKA + kosztDzbanPOL_PELEX + kosztDzbanPOL_KEBAB >=0\n",
    "\n",
    "prob.solve()\n",
    "# The status of the solution is printed to the screen\n",
    "print(\"Status:\", LpStatus[prob.status])\n",
    "# Each of the variables is printed with it's resolved optimum value\n",
    "for v in prob.variables():\n",
    "    print(v.name, \"=\", v.varValue)\n",
    "print(\"Koszty wyniosły {}\".format( value(prob.objective)))\n"
   ]
  },
  {
   "cell_type": "code",
   "execution_count": null,
   "metadata": {},
   "outputs": [],
   "source": []
  },
  {
   "cell_type": "code",
   "execution_count": null,
   "metadata": {},
   "outputs": [],
   "source": []
  },
  {
   "cell_type": "code",
   "execution_count": null,
   "metadata": {},
   "outputs": [],
   "source": []
  },
  {
   "cell_type": "code",
   "execution_count": null,
   "metadata": {},
   "outputs": [],
   "source": []
  },
  {
   "cell_type": "code",
   "execution_count": null,
   "metadata": {},
   "outputs": [],
   "source": []
  },
  {
   "cell_type": "code",
   "execution_count": null,
   "metadata": {},
   "outputs": [],
   "source": []
  },
  {
   "cell_type": "code",
   "execution_count": null,
   "metadata": {},
   "outputs": [],
   "source": []
  },
  {
   "cell_type": "code",
   "execution_count": null,
   "metadata": {},
   "outputs": [],
   "source": []
  },
  {
   "cell_type": "code",
   "execution_count": 2,
   "metadata": {},
   "outputs": [
    {
     "ename": "NameError",
     "evalue": "name 'train' is not defined",
     "output_type": "error",
     "traceback": [
      "\u001b[1;31m---------------------------------------------------------------------------\u001b[0m",
      "\u001b[1;31mNameError\u001b[0m                                 Traceback (most recent call last)",
      "\u001b[1;32m<ipython-input-2-876ae6756201>\u001b[0m in \u001b[0;36m<module>\u001b[1;34m\u001b[0m\n\u001b[0;32m      7\u001b[0m \u001b[0mlabel_names\u001b[0m \u001b[1;33m=\u001b[0m \u001b[1;33m[\u001b[0m\u001b[1;34m\"Missing\"\u001b[0m\u001b[1;33m,\u001b[0m \u001b[1;34m'Infant'\u001b[0m\u001b[1;33m,\u001b[0m \u001b[1;34m\"Child\"\u001b[0m\u001b[1;33m,\u001b[0m \u001b[1;34m'Teenager'\u001b[0m\u001b[1;33m,\u001b[0m \u001b[1;34m\"Young Adult\"\u001b[0m\u001b[1;33m,\u001b[0m \u001b[1;34m'Adult'\u001b[0m\u001b[1;33m,\u001b[0m \u001b[1;34m'Senior'\u001b[0m\u001b[1;33m]\u001b[0m\u001b[1;33m\u001b[0m\u001b[1;33m\u001b[0m\u001b[0m\n\u001b[0;32m      8\u001b[0m \u001b[1;33m\u001b[0m\u001b[0m\n\u001b[1;32m----> 9\u001b[1;33m \u001b[0mtrain\u001b[0m \u001b[1;33m=\u001b[0m \u001b[0mprocess_age\u001b[0m\u001b[1;33m(\u001b[0m\u001b[0mtrain\u001b[0m\u001b[1;33m,\u001b[0m\u001b[0mcut_points\u001b[0m\u001b[1;33m,\u001b[0m\u001b[0mlabel_names\u001b[0m\u001b[1;33m)\u001b[0m\u001b[1;33m\u001b[0m\u001b[1;33m\u001b[0m\u001b[0m\n\u001b[0m\u001b[0;32m     10\u001b[0m \u001b[0mtest\u001b[0m \u001b[1;33m=\u001b[0m \u001b[0mprocess_age\u001b[0m\u001b[1;33m(\u001b[0m\u001b[0mtest\u001b[0m\u001b[1;33m,\u001b[0m\u001b[0mcut_points\u001b[0m\u001b[1;33m,\u001b[0m\u001b[0mlabel_names\u001b[0m\u001b[1;33m)\u001b[0m\u001b[1;33m\u001b[0m\u001b[1;33m\u001b[0m\u001b[0m\n\u001b[0;32m     11\u001b[0m \u001b[1;33m\u001b[0m\u001b[0m\n",
      "\u001b[1;31mNameError\u001b[0m: name 'train' is not defined"
     ]
    }
   ],
   "source": []
  },
  {
   "cell_type": "code",
   "execution_count": null,
   "metadata": {},
   "outputs": [],
   "source": []
  },
  {
   "cell_type": "code",
   "execution_count": null,
   "metadata": {},
   "outputs": [],
   "source": []
  },
  {
   "cell_type": "code",
   "execution_count": null,
   "metadata": {},
   "outputs": [],
   "source": []
  },
  {
   "cell_type": "code",
   "execution_count": null,
   "metadata": {},
   "outputs": [],
   "source": []
  },
  {
   "cell_type": "code",
   "execution_count": null,
   "metadata": {},
   "outputs": [],
   "source": []
  },
  {
   "cell_type": "code",
   "execution_count": null,
   "metadata": {},
   "outputs": [],
   "source": []
  }
 ],
 "metadata": {
  "kernelspec": {
   "display_name": "Python 3",
   "language": "python",
   "name": "python3"
  },
  "language_info": {
   "codemirror_mode": {
    "name": "ipython",
    "version": 3
   },
   "file_extension": ".py",
   "mimetype": "text/x-python",
   "name": "python",
   "nbconvert_exporter": "python",
   "pygments_lexer": "ipython3",
   "version": "3.7.4"
  }
 },
 "nbformat": 4,
 "nbformat_minor": 2
}
