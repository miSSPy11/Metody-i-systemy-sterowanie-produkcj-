{
 "cells": [
  {
   "cell_type": "code",
   "execution_count": 3,
   "metadata": {},
   "outputs": [
    {
     "ename": "ModuleNotFoundError",
     "evalue": "No module named 'pulp'",
     "output_type": "error",
     "traceback": [
      "\u001b[1;31m---------------------------------------------------------------------------\u001b[0m",
      "\u001b[1;31mModuleNotFoundError\u001b[0m                       Traceback (most recent call last)",
      "\u001b[1;32m<ipython-input-3-a346a9e886f0>\u001b[0m in \u001b[0;36m<module>\u001b[1;34m\u001b[0m\n\u001b[1;32m----> 1\u001b[1;33m \u001b[1;32mfrom\u001b[0m \u001b[0mpulp\u001b[0m \u001b[1;32mimport\u001b[0m \u001b[1;33m*\u001b[0m\u001b[1;33m\u001b[0m\u001b[1;33m\u001b[0m\u001b[0m\n\u001b[0m\u001b[0;32m      2\u001b[0m \u001b[1;32mimport\u001b[0m \u001b[0mpandas\u001b[0m \u001b[1;32mas\u001b[0m \u001b[0mpd\u001b[0m\u001b[1;33m\u001b[0m\u001b[1;33m\u001b[0m\u001b[0m\n\u001b[0;32m      3\u001b[0m \u001b[1;33m\u001b[0m\u001b[0m\n\u001b[0;32m      4\u001b[0m \u001b[0mprob\u001b[0m \u001b[1;33m=\u001b[0m \u001b[0mLpProblem\u001b[0m\u001b[1;33m(\u001b[0m\u001b[1;34m\"Najmniejsze koszty\"\u001b[0m\u001b[1;33m,\u001b[0m\u001b[0mLpMinimize\u001b[0m\u001b[1;33m)\u001b[0m\u001b[1;33m\u001b[0m\u001b[1;33m\u001b[0m\u001b[0m\n\u001b[0;32m      5\u001b[0m \u001b[1;33m\u001b[0m\u001b[0m\n",
      "\u001b[1;31mModuleNotFoundError\u001b[0m: No module named 'pulp'"
     ]
    }
   ],
   "source": [
    "class NumerTelefonu():\n",
    "    def __init__(self, numer_telefonu):\n",
    "        self.numer = numer_telefonu\n",
    "        \n",
    "        if len(str(self.numer)) != 9:  #sprawdzam czy numer ma 9 znaków\n",
    "            print(\"Bledny numer\")\n",
    "        \n",
    "    @property\n",
    "    def wojewodztwo(self):\n",
    "        wojewodztwo1 = \"\"\n",
    "        tempNum = str(self.numer)\n",
    "        if (tempNum[0] == \"4\" and tempNum[1] == \"2\"):    #sprawdzam, czy numer jest z Łodzi\n",
    "            wojewodztwo1 = \"Lodz\"\n",
    "            print (wojewodztwo1)\n",
    "        elif (tempNum[0] == \"2\" and tempNum[1] == \"2\"): #sprawdzam czy numer jest z z Warszawy\n",
    "            wojewodztwo1 = \"Warszawa\"\n",
    "            print (wojewodztwo1)\n",
    "        else: \n",
    "            wojewodztwo1 = \"Inne\"\n",
    "            print (wojewodztwo1)\n",
    "        return wojewodztwo1\n",
    "    \n",
    "    def __repr__(self):\n",
    "        cyfry_slownik = {\n",
    "            '1' : \"jeden\",\n",
    "            '2' : \"dwa\",\n",
    "            '3' : \"trzy\",\n",
    "            '4' : \"cztery\",\n",
    "            '5' : \"piec\",\n",
    "            '6' : \"szesc\",\n",
    "            '7' : \"siedem\",\n",
    "            '8' : \"osiem\",\n",
    "            '9' : \"dziewiec\",\n",
    "            '0' : \"zero\",\n",
    "        }\n",
    "        zmienna = \"\"\n",
    "        for x in str(self.numer):\n",
    "            zmienna += (cyfry_slownik[x] + \" \")\n",
    "        return zmienna\n",
    "nr = NumerTelefonu(numer)\n",
    "print(nr)"
   ]
  },
  {
   "cell_type": "code",
   "execution_count": null,
   "metadata": {},
   "outputs": [],
   "source": []
  },
  {
   "cell_type": "code",
   "execution_count": null,
   "metadata": {},
   "outputs": [],
   "source": []
  },
  {
   "cell_type": "code",
   "execution_count": null,
   "metadata": {},
   "outputs": [],
   "source": []
  },
  {
   "cell_type": "code",
   "execution_count": null,
   "metadata": {},
   "outputs": [],
   "source": []
  },
  {
   "cell_type": "code",
   "execution_count": null,
   "metadata": {},
   "outputs": [],
   "source": []
  },
  {
   "cell_type": "code",
   "execution_count": null,
   "metadata": {},
   "outputs": [],
   "source": []
  },
  {
   "cell_type": "code",
   "execution_count": null,
   "metadata": {},
   "outputs": [],
   "source": []
  },
  {
   "cell_type": "code",
   "execution_count": null,
   "metadata": {},
   "outputs": [],
   "source": []
  },
  {
   "cell_type": "code",
   "execution_count": 2,
   "metadata": {},
   "outputs": [
    {
     "ename": "NameError",
     "evalue": "name 'train' is not defined",
     "output_type": "error",
     "traceback": [
      "\u001b[1;31m---------------------------------------------------------------------------\u001b[0m",
      "\u001b[1;31mNameError\u001b[0m                                 Traceback (most recent call last)",
      "\u001b[1;32m<ipython-input-2-876ae6756201>\u001b[0m in \u001b[0;36m<module>\u001b[1;34m\u001b[0m\n\u001b[0;32m      7\u001b[0m \u001b[0mlabel_names\u001b[0m \u001b[1;33m=\u001b[0m \u001b[1;33m[\u001b[0m\u001b[1;34m\"Missing\"\u001b[0m\u001b[1;33m,\u001b[0m \u001b[1;34m'Infant'\u001b[0m\u001b[1;33m,\u001b[0m \u001b[1;34m\"Child\"\u001b[0m\u001b[1;33m,\u001b[0m \u001b[1;34m'Teenager'\u001b[0m\u001b[1;33m,\u001b[0m \u001b[1;34m\"Young Adult\"\u001b[0m\u001b[1;33m,\u001b[0m \u001b[1;34m'Adult'\u001b[0m\u001b[1;33m,\u001b[0m \u001b[1;34m'Senior'\u001b[0m\u001b[1;33m]\u001b[0m\u001b[1;33m\u001b[0m\u001b[1;33m\u001b[0m\u001b[0m\n\u001b[0;32m      8\u001b[0m \u001b[1;33m\u001b[0m\u001b[0m\n\u001b[1;32m----> 9\u001b[1;33m \u001b[0mtrain\u001b[0m \u001b[1;33m=\u001b[0m \u001b[0mprocess_age\u001b[0m\u001b[1;33m(\u001b[0m\u001b[0mtrain\u001b[0m\u001b[1;33m,\u001b[0m\u001b[0mcut_points\u001b[0m\u001b[1;33m,\u001b[0m\u001b[0mlabel_names\u001b[0m\u001b[1;33m)\u001b[0m\u001b[1;33m\u001b[0m\u001b[1;33m\u001b[0m\u001b[0m\n\u001b[0m\u001b[0;32m     10\u001b[0m \u001b[0mtest\u001b[0m \u001b[1;33m=\u001b[0m \u001b[0mprocess_age\u001b[0m\u001b[1;33m(\u001b[0m\u001b[0mtest\u001b[0m\u001b[1;33m,\u001b[0m\u001b[0mcut_points\u001b[0m\u001b[1;33m,\u001b[0m\u001b[0mlabel_names\u001b[0m\u001b[1;33m)\u001b[0m\u001b[1;33m\u001b[0m\u001b[1;33m\u001b[0m\u001b[0m\n\u001b[0;32m     11\u001b[0m \u001b[1;33m\u001b[0m\u001b[0m\n",
      "\u001b[1;31mNameError\u001b[0m: name 'train' is not defined"
     ]
    }
   ],
   "source": []
  },
  {
   "cell_type": "code",
   "execution_count": null,
   "metadata": {},
   "outputs": [],
   "source": []
  },
  {
   "cell_type": "code",
   "execution_count": null,
   "metadata": {},
   "outputs": [],
   "source": []
  },
  {
   "cell_type": "code",
   "execution_count": null,
   "metadata": {},
   "outputs": [],
   "source": []
  },
  {
   "cell_type": "code",
   "execution_count": null,
   "metadata": {},
   "outputs": [],
   "source": []
  },
  {
   "cell_type": "code",
   "execution_count": null,
   "metadata": {},
   "outputs": [],
   "source": []
  },
  {
   "cell_type": "code",
   "execution_count": null,
   "metadata": {},
   "outputs": [],
   "source": []
  }
 ],
 "metadata": {
  "kernelspec": {
   "display_name": "Python 3",
   "language": "python",
   "name": "python3"
  },
  "language_info": {
   "codemirror_mode": {
    "name": "ipython",
    "version": 3
   },
   "file_extension": ".py",
   "mimetype": "text/x-python",
   "name": "python",
   "nbconvert_exporter": "python",
   "pygments_lexer": "ipython3",
   "version": "3.7.4"
  }
 },
 "nbformat": 4,
 "nbformat_minor": 2
}
