{
 "cells": [
  {
   "cell_type": "code",
   "execution_count": 3,
   "metadata": {},
   "outputs": [
    {
     "ename": "ModuleNotFoundError",
     "evalue": "No module named 'pulp'",
     "output_type": "error",
     "traceback": [
      "\u001b[1;31m---------------------------------------------------------------------------\u001b[0m",
      "\u001b[1;31mModuleNotFoundError\u001b[0m                       Traceback (most recent call last)",
      "\u001b[1;32m<ipython-input-3-a346a9e886f0>\u001b[0m in \u001b[0;36m<module>\u001b[1;34m\u001b[0m\n\u001b[1;32m----> 1\u001b[1;33m \u001b[1;32mfrom\u001b[0m \u001b[0mpulp\u001b[0m \u001b[1;32mimport\u001b[0m \u001b[1;33m*\u001b[0m\u001b[1;33m\u001b[0m\u001b[1;33m\u001b[0m\u001b[0m\n\u001b[0m\u001b[0;32m      2\u001b[0m \u001b[1;32mimport\u001b[0m \u001b[0mpandas\u001b[0m \u001b[1;32mas\u001b[0m \u001b[0mpd\u001b[0m\u001b[1;33m\u001b[0m\u001b[1;33m\u001b[0m\u001b[0m\n\u001b[0;32m      3\u001b[0m \u001b[1;33m\u001b[0m\u001b[0m\n\u001b[0;32m      4\u001b[0m \u001b[0mprob\u001b[0m \u001b[1;33m=\u001b[0m \u001b[0mLpProblem\u001b[0m\u001b[1;33m(\u001b[0m\u001b[1;34m\"Najmniejsze koszty\"\u001b[0m\u001b[1;33m,\u001b[0m\u001b[0mLpMinimize\u001b[0m\u001b[1;33m)\u001b[0m\u001b[1;33m\u001b[0m\u001b[1;33m\u001b[0m\u001b[0m\n\u001b[0;32m      5\u001b[0m \u001b[1;33m\u001b[0m\u001b[0m\n",
      "\u001b[1;31mModuleNotFoundError\u001b[0m: No module named 'pulp'"
     ]
    }
   ],
   "source": [
    "from pulp import *\n",
    "import pandas as pd\n",
    "\n",
    "prob = LpProblem(\"Najmniejsze koszty\",LpMinimize)\n",
    "\n",
    "# 2 zmienne\n",
    "pIg=LpVariable(\"pIg\",0) # Poniedziałek Igor godziny\n",
    "pMg=LpVariable(\"pMg\",0) # Poniedziałek Marek godziny\n",
    "pFg=LpVariable(\"pFg\",0) # Poniedziałek Franek godziny\n",
    "pPg=LpVariable(\"pPg\",0) # Poniedziałek Piotrek godziny\n",
    "pAg=LpVariable(\"pAg\",0) # Poniedziałek Ania godziny\n",
    "pZg=LpVariable(\"pZg\",0) # Poniedziałek Zenon godziny\n",
    "\n",
    "wIg=LpVariable(\"wIg\",0) # Wtorek Igor godziny\n",
    "wMg=LpVariable(\"wMg\",0) # Wtorek Marek godziny\n",
    "wFg=LpVariable(\"wFg\",0) # Wtorek Franek godziny\n",
    "wPg=LpVariable(\"wPg\",0) # Wtorek Piotrek godziny\n",
    "wAg=LpVariable(\"wAg\",0) # Wtorek Ania godziny\n",
    "wZg=LpVariable(\"wZg\",0) # Wtorek Zenon godziny\n",
    "\n",
    "srIg=LpVariable(\"srIg\",0) # Sroda Igor godziny\n",
    "srMg=LpVariable(\"srMg\",0) # Sroda Marek godziny\n",
    "srFg=LpVariable(\"srFg\",0) # Sroda Franek godziny\n",
    "srPg=LpVariable(\"srPg\",0) # Sroda Piotrek godziny\n",
    "srAg=LpVariable(\"srAg\",0) # Sroda Ania godziny\n",
    "srZg=LpVariable(\"srZg\",0) # Sroda Zenon godziny\n",
    "\n",
    "cIg=LpVariable(\"cIg\",0) # Czwartek Igor godziny\n",
    "cMg=LpVariable(\"cMg\",0) # Czwartek Marek godziny\n",
    "cFg=LpVariable(\"cFg\",0) # Czwartek Franek godziny\n",
    "cPg=LpVariable(\"cPg\",0) # Czwartek Piotrek godziny\n",
    "cAg=LpVariable(\"cAg\",0) # Czwartek Ania godziny\n",
    "cZg=LpVariable(\"cZg\",0) # Czwartek Zenon godziny\n",
    "\n",
    "ptIg=LpVariable(\"ptIg\",0) # Piątek Igor godziny\n",
    "ptMg=LpVariable(\"ptMg\",0) # Piątek Marek godziny \n",
    "ptFg=LpVariable(\"ptFg\",0) # Piątek Franek godziny\n",
    "ptPg=LpVariable(\"ptPg\",0) # Piątek Piotrek godziny\n",
    "ptAg=LpVariable(\"ptAg\",0) # Piątek Ania godziny\n",
    "ptZg=LpVariable(\"ptZg\",0) # Piątek Zenon godziny\n",
    "\n",
    "sIg=LpVariable(\"sIg\",0) # Sobota Igor godziny\n",
    "sMg=LpVariable(\"sMg\",0) # Sobota Marek godziny\n",
    "sFg=LpVariable(\"sFg\",0) # Sobota Franek godziny\n",
    "sPg=LpVariable(\"sPg\",0) # Sobota Piotrek godziny\n",
    "sAg=LpVariable(\"sAg\",0) # Sobota Ania godziny\n",
    "sZg=LpVariable(\"sZg\",0) # Sobota Zenon godziny\n",
    "\n",
    "Ig=pIg+wIg+srIg+cIg+ptIg+sIg             # wszystkie godziny Igora\n",
    "Mg=pMg+wMg+srMg+cMg+ptMg+sMg             # wszystkie godziny Marka\n",
    "Fg=pFg+wFg+srFg+cFg+ptFg+sFg             # wszystkie godziny Franka\n",
    "Ag=pAg+wAg+srAg+cAg+ptAg+sAg             # wszystkie godziny Ani\n",
    "Zg=pZg+wZg+srZg+cZg+ptZg+sZg             # wszystkie godziny Zenona\n",
    "Pg=pPg+wPg+srPg+cPg+ptPg+sPg             # wszystkie godziny Piotrka\n",
    "\n",
    "\n",
    "prob += 170*Ig+60*Mg+80*Fg+200*Pg+90*Ag+10*Zg #koszt pracownika\n",
    "prob += pIg + wIg + srIg + cIg + ptIg + sIg <= 4\t# rownania ograniczen\n",
    "prob += pMg+wMg+srMg+cMg+ptMg+sMg<=4\n",
    "prob += pFg+wFg+srFg+cFg+ptFg+sFg<=3\n",
    "prob += pPg+wPg+srPg+cPg+ptPg+sPg<=8\n",
    "prob += pAg+wAg+srAg+cAg+ptAg+sAg<=10\n",
    "prob += pZg+wZg+srZg+cZg+ptZg+sZg<=5\n",
    "\n",
    "prob += pIg+pMg+pFg+pPg+pAg+pZg ==8\n",
    "prob += wIg+wMg+wFg+wPg+wAg+wZg==4\n",
    "prob += srIg+srMg+srFg+srPg+srAg+srZg==4\n",
    "prob += cIg+cMg+cFg+cPg+cAg+cZg==4\n",
    "prob += ptIg+ptMg+ptFg+ptPg+ptAg+ptZg==8\n",
    "prob += sIg+sMg+sFg+sPg+sAg+sZg==2\n",
    "\n",
    "prob.solve()\n",
    "# The status of the solution is printed to the screen\n",
    "print(\"Status:\", LpStatus[prob.status])\n",
    "# Each of the variables is printed with it's resolved optimum value\n",
    "for v in prob.variables():\n",
    "    print(v.name, \"=\", v.varValue)\n",
    "print(\"Koszty pracownika wyniesie {} zl‚  \".format( value(prob.objective)))"
   ]
  },
  {
   "cell_type": "code",
   "execution_count": null,
   "metadata": {},
   "outputs": [],
   "source": []
  },
  {
   "cell_type": "code",
   "execution_count": null,
   "metadata": {},
   "outputs": [],
   "source": []
  },
  {
   "cell_type": "code",
   "execution_count": null,
   "metadata": {},
   "outputs": [],
   "source": []
  },
  {
   "cell_type": "code",
   "execution_count": null,
   "metadata": {},
   "outputs": [],
   "source": []
  },
  {
   "cell_type": "code",
   "execution_count": null,
   "metadata": {},
   "outputs": [],
   "source": []
  },
  {
   "cell_type": "code",
   "execution_count": null,
   "metadata": {},
   "outputs": [],
   "source": []
  },
  {
   "cell_type": "code",
   "execution_count": null,
   "metadata": {},
   "outputs": [],
   "source": []
  },
  {
   "cell_type": "code",
   "execution_count": null,
   "metadata": {},
   "outputs": [],
   "source": []
  },
  {
   "cell_type": "code",
   "execution_count": 2,
   "metadata": {},
   "outputs": [
    {
     "ename": "NameError",
     "evalue": "name 'train' is not defined",
     "output_type": "error",
     "traceback": [
      "\u001b[1;31m---------------------------------------------------------------------------\u001b[0m",
      "\u001b[1;31mNameError\u001b[0m                                 Traceback (most recent call last)",
      "\u001b[1;32m<ipython-input-2-876ae6756201>\u001b[0m in \u001b[0;36m<module>\u001b[1;34m\u001b[0m\n\u001b[0;32m      7\u001b[0m \u001b[0mlabel_names\u001b[0m \u001b[1;33m=\u001b[0m \u001b[1;33m[\u001b[0m\u001b[1;34m\"Missing\"\u001b[0m\u001b[1;33m,\u001b[0m \u001b[1;34m'Infant'\u001b[0m\u001b[1;33m,\u001b[0m \u001b[1;34m\"Child\"\u001b[0m\u001b[1;33m,\u001b[0m \u001b[1;34m'Teenager'\u001b[0m\u001b[1;33m,\u001b[0m \u001b[1;34m\"Young Adult\"\u001b[0m\u001b[1;33m,\u001b[0m \u001b[1;34m'Adult'\u001b[0m\u001b[1;33m,\u001b[0m \u001b[1;34m'Senior'\u001b[0m\u001b[1;33m]\u001b[0m\u001b[1;33m\u001b[0m\u001b[1;33m\u001b[0m\u001b[0m\n\u001b[0;32m      8\u001b[0m \u001b[1;33m\u001b[0m\u001b[0m\n\u001b[1;32m----> 9\u001b[1;33m \u001b[0mtrain\u001b[0m \u001b[1;33m=\u001b[0m \u001b[0mprocess_age\u001b[0m\u001b[1;33m(\u001b[0m\u001b[0mtrain\u001b[0m\u001b[1;33m,\u001b[0m\u001b[0mcut_points\u001b[0m\u001b[1;33m,\u001b[0m\u001b[0mlabel_names\u001b[0m\u001b[1;33m)\u001b[0m\u001b[1;33m\u001b[0m\u001b[1;33m\u001b[0m\u001b[0m\n\u001b[0m\u001b[0;32m     10\u001b[0m \u001b[0mtest\u001b[0m \u001b[1;33m=\u001b[0m \u001b[0mprocess_age\u001b[0m\u001b[1;33m(\u001b[0m\u001b[0mtest\u001b[0m\u001b[1;33m,\u001b[0m\u001b[0mcut_points\u001b[0m\u001b[1;33m,\u001b[0m\u001b[0mlabel_names\u001b[0m\u001b[1;33m)\u001b[0m\u001b[1;33m\u001b[0m\u001b[1;33m\u001b[0m\u001b[0m\n\u001b[0;32m     11\u001b[0m \u001b[1;33m\u001b[0m\u001b[0m\n",
      "\u001b[1;31mNameError\u001b[0m: name 'train' is not defined"
     ]
    }
   ],
   "source": []
  },
  {
   "cell_type": "code",
   "execution_count": null,
   "metadata": {},
   "outputs": [],
   "source": []
  },
  {
   "cell_type": "code",
   "execution_count": null,
   "metadata": {},
   "outputs": [],
   "source": []
  },
  {
   "cell_type": "code",
   "execution_count": null,
   "metadata": {},
   "outputs": [],
   "source": []
  },
  {
   "cell_type": "code",
   "execution_count": null,
   "metadata": {},
   "outputs": [],
   "source": []
  },
  {
   "cell_type": "code",
   "execution_count": null,
   "metadata": {},
   "outputs": [],
   "source": []
  },
  {
   "cell_type": "code",
   "execution_count": null,
   "metadata": {},
   "outputs": [],
   "source": []
  }
 ],
 "metadata": {
  "kernelspec": {
   "display_name": "Python 3",
   "language": "python",
   "name": "python3"
  },
  "language_info": {
   "codemirror_mode": {
    "name": "ipython",
    "version": 3
   },
   "file_extension": ".py",
   "mimetype": "text/x-python",
   "name": "python",
   "nbconvert_exporter": "python",
   "pygments_lexer": "ipython3",
   "version": "3.7.4"
  }
 },
 "nbformat": 4,
 "nbformat_minor": 2
}
